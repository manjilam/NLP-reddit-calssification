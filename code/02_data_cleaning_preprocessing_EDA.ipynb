{
 "cells": [
  {
   "cell_type": "markdown",
   "id": "c8d464a4-9cb6-4206-a9c7-c84a9dd2d669",
   "metadata": {},
   "source": [
    "Imports\n"
   ]
  },
  {
   "cell_type": "code",
   "execution_count": 3,
   "id": "4134d1c0-074f-42dc-bb26-03d343633341",
   "metadata": {},
   "outputs": [],
   "source": [
    "import pandas as pd\n",
    "import seaborn as sns\n",
    "import matplotlib.pyplot as plt\n",
    "import nltk\n",
    "from nltk.stem import WordNetLemmatizer\n",
    "from nltk.tokenize import RegexpTokenizer\n",
    "from nltk.corpus import stopwords"
   ]
  },
  {
   "cell_type": "markdown",
   "id": "770ba028-9f91-47af-b030-08bdf2736c57",
   "metadata": {},
   "source": [
    "Reading in the final dataframe with 2000 entries, 1000 from Minimalism and 1000 from Declutter subreddits for EDA."
   ]
  },
  {
   "cell_type": "code",
   "execution_count": 9,
   "id": "77ae7ffe-a6d4-41ff-afb8-7155839733f4",
   "metadata": {},
   "outputs": [
    {
     "data": {
      "text/html": [
       "<div>\n",
       "<style scoped>\n",
       "    .dataframe tbody tr th:only-of-type {\n",
       "        vertical-align: middle;\n",
       "    }\n",
       "\n",
       "    .dataframe tbody tr th {\n",
       "        vertical-align: top;\n",
       "    }\n",
       "\n",
       "    .dataframe thead th {\n",
       "        text-align: right;\n",
       "    }\n",
       "</style>\n",
       "<table border=\"1\" class=\"dataframe\">\n",
       "  <thead>\n",
       "    <tr style=\"text-align: right;\">\n",
       "      <th></th>\n",
       "      <th>title</th>\n",
       "      <th>text</th>\n",
       "      <th>subreddit</th>\n",
       "      <th>created_utc</th>\n",
       "    </tr>\n",
       "  </thead>\n",
       "  <tbody>\n",
       "    <tr>\n",
       "      <th>0</th>\n",
       "      <td>Kitchen Before and After</td>\n",
       "      <td>I've finally finished decluttering and cleanin...</td>\n",
       "      <td>declutter</td>\n",
       "      <td>1.609520e+09</td>\n",
       "    </tr>\n",
       "    <tr>\n",
       "      <th>1</th>\n",
       "      <td>How is there still so much stuff?!</td>\n",
       "      <td>I’ve been decluttering all of 2020, as well as...</td>\n",
       "      <td>declutter</td>\n",
       "      <td>1.609607e+09</td>\n",
       "    </tr>\n",
       "    <tr>\n",
       "      <th>2</th>\n",
       "      <td>I put \"due-dates\" on clothes that I haven't wo...</td>\n",
       "      <td>https://imgur.com/a/Y5BdBiT</td>\n",
       "      <td>declutter</td>\n",
       "      <td>1.609780e+09</td>\n",
       "    </tr>\n",
       "    <tr>\n",
       "      <th>3</th>\n",
       "      <td>Clothes that fit but are old/aren’t me anymore</td>\n",
       "      <td>Update: \\nSo I listed 4 dresses to the free si...</td>\n",
       "      <td>declutter</td>\n",
       "      <td>1.610106e+09</td>\n",
       "    </tr>\n",
       "    <tr>\n",
       "      <th>4</th>\n",
       "      <td>Decluttering the freezer. Cooked 5 chickens do...</td>\n",
       "      <td>Just as the title says, I’m trying to clear ou...</td>\n",
       "      <td>declutter</td>\n",
       "      <td>1.610158e+09</td>\n",
       "    </tr>\n",
       "  </tbody>\n",
       "</table>\n",
       "</div>"
      ],
      "text/plain": [
       "                                               title  \\\n",
       "0                           Kitchen Before and After   \n",
       "1                 How is there still so much stuff?!   \n",
       "2  I put \"due-dates\" on clothes that I haven't wo...   \n",
       "3     Clothes that fit but are old/aren’t me anymore   \n",
       "4  Decluttering the freezer. Cooked 5 chickens do...   \n",
       "\n",
       "                                                text  subreddit   created_utc  \n",
       "0  I've finally finished decluttering and cleanin...  declutter  1.609520e+09  \n",
       "1  I’ve been decluttering all of 2020, as well as...  declutter  1.609607e+09  \n",
       "2                        https://imgur.com/a/Y5BdBiT  declutter  1.609780e+09  \n",
       "3  Update: \\nSo I listed 4 dresses to the free si...  declutter  1.610106e+09  \n",
       "4  Just as the title says, I’m trying to clear ou...  declutter  1.610158e+09  "
      ]
     },
     "execution_count": 9,
     "metadata": {},
     "output_type": "execute_result"
    }
   ],
   "source": [
    "final_df = pd.read_csv('../files/final_df.csv')\n",
    "final_df.head()"
   ]
  },
  {
   "cell_type": "code",
   "execution_count": 10,
   "id": "003d474d-bbc0-4404-b71e-e8f7c7bd9750",
   "metadata": {},
   "outputs": [
    {
     "name": "stdout",
     "output_type": "stream",
     "text": [
      "<class 'pandas.core.frame.DataFrame'>\n",
      "RangeIndex: 1694 entries, 0 to 1693\n",
      "Data columns (total 4 columns):\n",
      " #   Column       Non-Null Count  Dtype  \n",
      "---  ------       --------------  -----  \n",
      " 0   title        1694 non-null   object \n",
      " 1   text         1676 non-null   object \n",
      " 2   subreddit    1694 non-null   object \n",
      " 3   created_utc  1694 non-null   float64\n",
      "dtypes: float64(1), object(3)\n",
      "memory usage: 53.1+ KB\n"
     ]
    }
   ],
   "source": [
    "final_df.info()"
   ]
  },
  {
   "cell_type": "code",
   "execution_count": 11,
   "id": "5fa47e60-ba75-4df8-b0e8-b12b36fd9c7b",
   "metadata": {},
   "outputs": [
    {
     "name": "stdout",
     "output_type": "stream",
     "text": [
      "title           0\n",
      "text           18\n",
      "subreddit       0\n",
      "created_utc     0\n",
      "dtype: int64\n"
     ]
    }
   ],
   "source": [
    "print(final_df.isnull().sum())"
   ]
  },
  {
   "cell_type": "markdown",
   "id": "69249dd3-b2a9-467f-9b08-12d89e506194",
   "metadata": {},
   "source": [
    "There are 26 missing values in text part in 2000 of the entries, which is not a lot but still I would like to know which subreddit has the highest missing. "
   ]
  },
  {
   "cell_type": "code",
   "execution_count": 12,
   "id": "4ee946dc-0953-480e-a921-2d33e76537a6",
   "metadata": {},
   "outputs": [
    {
     "name": "stdout",
     "output_type": "stream",
     "text": [
      "subreddit\n",
      "declutter     9\n",
      "minimalism    9\n",
      "Name: text, dtype: int64\n"
     ]
    }
   ],
   "source": [
    "missing_by_subreddit = final_df.groupby('subreddit')['text'].apply(lambda x: x.isnull().sum())\n",
    "print(missing_by_subreddit)"
   ]
  },
  {
   "cell_type": "markdown",
   "id": "994571b3-19f2-4da0-acec-bb2f9e5f9bc5",
   "metadata": {},
   "source": [
    "There is 17 missing in the Minimalism subreddit and 9 in declutter. I would like to fill the text with no text for Declutter and unknown content for Minimalism subreddit, so they are still distinct despite not having anything in the text"
   ]
  },
  {
   "cell_type": "code",
   "execution_count": 13,
   "id": "c9121d4d-fbc5-45d8-a84c-5327212c6b69",
   "metadata": {},
   "outputs": [],
   "source": [
    "final_df.loc[(final_df['subreddit'] == 'declutter') & (final_df['text'].isnull()), 'text'] = 'No Text'"
   ]
  },
  {
   "cell_type": "code",
   "execution_count": 14,
   "id": "e5237e70-c84f-4238-9f3e-d90ee48b5ac6",
   "metadata": {},
   "outputs": [],
   "source": [
    "final_df.loc[(final_df['subreddit'] == 'minimalism') & (final_df['text'].isnull()), 'text'] = 'Unknown Content'"
   ]
  },
  {
   "cell_type": "code",
   "execution_count": 15,
   "id": "e4ea60bf-5278-48b1-8fe1-e0edc4c3324a",
   "metadata": {},
   "outputs": [
    {
     "name": "stdout",
     "output_type": "stream",
     "text": [
      "title          0\n",
      "text           0\n",
      "subreddit      0\n",
      "created_utc    0\n",
      "dtype: int64\n"
     ]
    }
   ],
   "source": [
    "#checking\n",
    "print(final_df.isnull().sum())"
   ]
  },
  {
   "cell_type": "code",
   "execution_count": 16,
   "id": "51435f35-57dc-41f6-aa31-57b085781ae0",
   "metadata": {},
   "outputs": [
    {
     "data": {
      "text/html": [
       "<div>\n",
       "<style scoped>\n",
       "    .dataframe tbody tr th:only-of-type {\n",
       "        vertical-align: middle;\n",
       "    }\n",
       "\n",
       "    .dataframe tbody tr th {\n",
       "        vertical-align: top;\n",
       "    }\n",
       "\n",
       "    .dataframe thead th {\n",
       "        text-align: right;\n",
       "    }\n",
       "</style>\n",
       "<table border=\"1\" class=\"dataframe\">\n",
       "  <thead>\n",
       "    <tr style=\"text-align: right;\">\n",
       "      <th></th>\n",
       "      <th>title</th>\n",
       "      <th>text</th>\n",
       "      <th>subreddit</th>\n",
       "      <th>created_utc</th>\n",
       "    </tr>\n",
       "  </thead>\n",
       "  <tbody>\n",
       "    <tr>\n",
       "      <th>0</th>\n",
       "      <td>Kitchen Before and After</td>\n",
       "      <td>I've finally finished decluttering and cleanin...</td>\n",
       "      <td>declutter</td>\n",
       "      <td>1.609520e+09</td>\n",
       "    </tr>\n",
       "    <tr>\n",
       "      <th>1</th>\n",
       "      <td>How is there still so much stuff?!</td>\n",
       "      <td>I’ve been decluttering all of 2020, as well as...</td>\n",
       "      <td>declutter</td>\n",
       "      <td>1.609607e+09</td>\n",
       "    </tr>\n",
       "    <tr>\n",
       "      <th>2</th>\n",
       "      <td>I put \"due-dates\" on clothes that I haven't wo...</td>\n",
       "      <td>https://imgur.com/a/Y5BdBiT</td>\n",
       "      <td>declutter</td>\n",
       "      <td>1.609780e+09</td>\n",
       "    </tr>\n",
       "    <tr>\n",
       "      <th>3</th>\n",
       "      <td>Clothes that fit but are old/aren’t me anymore</td>\n",
       "      <td>Update: \\nSo I listed 4 dresses to the free si...</td>\n",
       "      <td>declutter</td>\n",
       "      <td>1.610106e+09</td>\n",
       "    </tr>\n",
       "    <tr>\n",
       "      <th>4</th>\n",
       "      <td>Decluttering the freezer. Cooked 5 chickens do...</td>\n",
       "      <td>Just as the title says, I’m trying to clear ou...</td>\n",
       "      <td>declutter</td>\n",
       "      <td>1.610158e+09</td>\n",
       "    </tr>\n",
       "  </tbody>\n",
       "</table>\n",
       "</div>"
      ],
      "text/plain": [
       "                                               title  \\\n",
       "0                           Kitchen Before and After   \n",
       "1                 How is there still so much stuff?!   \n",
       "2  I put \"due-dates\" on clothes that I haven't wo...   \n",
       "3     Clothes that fit but are old/aren’t me anymore   \n",
       "4  Decluttering the freezer. Cooked 5 chickens do...   \n",
       "\n",
       "                                                text  subreddit   created_utc  \n",
       "0  I've finally finished decluttering and cleanin...  declutter  1.609520e+09  \n",
       "1  I’ve been decluttering all of 2020, as well as...  declutter  1.609607e+09  \n",
       "2                        https://imgur.com/a/Y5BdBiT  declutter  1.609780e+09  \n",
       "3  Update: \\nSo I listed 4 dresses to the free si...  declutter  1.610106e+09  \n",
       "4  Just as the title says, I’m trying to clear ou...  declutter  1.610158e+09  "
      ]
     },
     "execution_count": 16,
     "metadata": {},
     "output_type": "execute_result"
    }
   ],
   "source": [
    "final_df.head()"
   ]
  },
  {
   "cell_type": "code",
   "execution_count": 17,
   "id": "63d096ee-b822-45fd-b331-3cd98a1e375c",
   "metadata": {},
   "outputs": [
    {
     "name": "stdout",
     "output_type": "stream",
     "text": [
      "Index(['title', 'text', 'subreddit', 'created_utc'], dtype='object')\n"
     ]
    }
   ],
   "source": [
    "print(final_df.columns)"
   ]
  },
  {
   "cell_type": "markdown",
   "id": "c36305b3-a11d-48d0-9e07-7ced8b0c3278",
   "metadata": {},
   "source": [
    "I would also like to see top 20 word sof each subreddit. "
   ]
  },
  {
   "cell_type": "code",
   "execution_count": 18,
   "id": "5076f889-c1ca-4885-8991-d6588c8dc4c9",
   "metadata": {},
   "outputs": [],
   "source": [
    "minimalism_df = final_df[final_df['subreddit'] == 'minimalism']\n",
    "declutter_df = final_df[final_df['subreddit'] == 'declutter']\n",
    "\n",
    "def get_top_words(texts, top_n=20):\n",
    "    all_words = \" \".join(texts.dropna()).split()\n",
    "    \n",
    "    #convert to use value_counts\n",
    "    word_series = pd.Series(all_words)\n",
    "    top_words = word_series.value_counts().head(top_n)\n",
    "    \n",
    "    return top_words\n",
    "\n",
    "top_words_minimalism_text = get_top_words(minimalism_df['text'], 20)\n",
    "top_words_declutter_text = get_top_words(declutter_df['text'], 20)"
   ]
  },
  {
   "cell_type": "code",
   "execution_count": 19,
   "id": "82017162-efde-464a-a1b4-f3ffbbbef3af",
   "metadata": {},
   "outputs": [
    {
     "name": "stdout",
     "output_type": "stream",
     "text": [
      "I       3993\n",
      "to      3156\n",
      "and     2952\n",
      "the     2529\n",
      "a       2486\n",
      "of      2168\n",
      "my      1520\n",
      "in      1181\n",
      "that    1168\n",
      "for     1116\n",
      "have    1035\n",
      "is       905\n",
      "it       868\n",
      "you      788\n",
      "with     774\n",
      "but      680\n",
      "or       601\n",
      "on       596\n",
      "just     532\n",
      "like     522\n",
      "Name: count, dtype: int64\n",
      "I       8125\n",
      "to      6069\n",
      "and     5421\n",
      "the     5341\n",
      "a       4525\n",
      "of      4329\n",
      "my      2692\n",
      "in      2472\n",
      "that    2374\n",
      "it      2130\n",
      "for     2000\n",
      "have    1932\n",
      "but     1389\n",
      "is      1375\n",
      "you     1250\n",
      "with    1224\n",
      "was     1198\n",
      "so      1122\n",
      "on      1120\n",
      "or      1023\n",
      "Name: count, dtype: int64\n"
     ]
    }
   ],
   "source": [
    "print(top_words_minimalism_text)\n",
    "print(top_words_declutter_text)\n",
    "\n"
   ]
  },
  {
   "cell_type": "markdown",
   "id": "94a97bb7-82a9-4923-8343-37ad8700946b",
   "metadata": {},
   "source": [
    "Most of the words are the same in both categories, they are also common english word, which brings in the need to use english stop words."
   ]
  },
  {
   "cell_type": "markdown",
   "id": "01d48b32-14c7-419b-83ea-f6840a40270e",
   "metadata": {},
   "source": [
    "Convert Float into string for lemmatizing."
   ]
  },
  {
   "cell_type": "code",
   "execution_count": 20,
   "id": "428d38d6-9601-4d2b-aa3a-07491c8b25c6",
   "metadata": {},
   "outputs": [],
   "source": [
    "\n",
    "final_df['text'] = final_df['text'].apply(lambda x: str(x) if isinstance(x, (float, int)) else x)\n"
   ]
  },
  {
   "cell_type": "markdown",
   "id": "bc6f6e8f-3f00-4076-8dd1-2c067aa44ea8",
   "metadata": {},
   "source": [
    "Lemmatizing!"
   ]
  },
  {
   "cell_type": "code",
   "execution_count": 21,
   "id": "2d2dee54-76f5-47c6-b667-b44f94637dc3",
   "metadata": {},
   "outputs": [],
   "source": [
    "lemmatizer = WordNetLemmatizer()\n",
    "stop_words = set(stopwords.words('english'))\n",
    "tokenizer = RegexpTokenizer(r'\\w+')\n",
    "\n",
    "def lemmatize_words(text):\n",
    "    text = text.lower().strip()\n",
    "    tokens = tokenizer.tokenize(text)\n",
    "\n",
    "    # Removing stopwords and lemmatizing!\n",
    "    clean_tokens = [lemmatizer.lemmatize(word) for word in tokens if word not in stop_words]\n",
    "    clean_text = ' '.join(clean_tokens)\n",
    "    \n",
    "    return clean_text\n",
    "\n"
   ]
  },
  {
   "cell_type": "code",
   "execution_count": 26,
   "id": "e442b6af-c9a9-4651-af32-ec5d39c9f196",
   "metadata": {},
   "outputs": [
    {
     "name": "stdout",
     "output_type": "stream",
     "text": [
      "                                                   text  \\\n",
      "0     I've finally finished decluttering and cleanin...   \n",
      "1     I’ve been decluttering all of 2020, as well as...   \n",
      "2                           https://imgur.com/a/Y5BdBiT   \n",
      "3     Update: \\nSo I listed 4 dresses to the free si...   \n",
      "4     Just as the title says, I’m trying to clear ou...   \n",
      "...                                                 ...   \n",
      "1689  I'm 23m and have become increasingly disenfran...   \n",
      "1690  I am in college and looking to start upgrading...   \n",
      "1691  Isnt it stupid? I am going through things in m...   \n",
      "1692  I live in a four season state what are your gu...   \n",
      "1693  Y'all have any ideas regarding dishes and food...   \n",
      "\n",
      "                                             clean_text  \n",
      "0     finally finished decluttering cleaning kitchen...  \n",
      "1     decluttering 2020 well making small change 5 y...  \n",
      "2                                http imgur com y5bdbit  \n",
      "3     update listed 4 dress free site area found nic...  \n",
      "4     title say trying clear freezer holiday cook th...  \n",
      "...                                                 ...  \n",
      "1689  23m become increasingly disenfranchised societ...  \n",
      "1690  college looking start upgrading high school cl...  \n",
      "1691  isnt stupid going thing mind desperately want ...  \n",
      "1692  live four season state guy essential living fo...  \n",
      "1693  idea regarding dish food storage part wonder u...  \n",
      "\n",
      "[1694 rows x 2 columns]\n"
     ]
    }
   ],
   "source": [
    "final_df['clean_text'] = final_df['text'].apply(lemmatize_words)\n",
    "print(final_df[['text', 'clean_text']])\n",
    "final_df.to_csv('../files/reddit_cleaned.csv', index=False)"
   ]
  },
  {
   "cell_type": "code",
   "execution_count": 27,
   "id": "3a473830-a35f-4ac8-b2d9-0d920b5102f2",
   "metadata": {},
   "outputs": [
    {
     "data": {
      "text/html": [
       "<div>\n",
       "<style scoped>\n",
       "    .dataframe tbody tr th:only-of-type {\n",
       "        vertical-align: middle;\n",
       "    }\n",
       "\n",
       "    .dataframe tbody tr th {\n",
       "        vertical-align: top;\n",
       "    }\n",
       "\n",
       "    .dataframe thead th {\n",
       "        text-align: right;\n",
       "    }\n",
       "</style>\n",
       "<table border=\"1\" class=\"dataframe\">\n",
       "  <thead>\n",
       "    <tr style=\"text-align: right;\">\n",
       "      <th></th>\n",
       "      <th>title</th>\n",
       "      <th>text</th>\n",
       "      <th>subreddit</th>\n",
       "      <th>created_utc</th>\n",
       "      <th>clean_text</th>\n",
       "    </tr>\n",
       "  </thead>\n",
       "  <tbody>\n",
       "    <tr>\n",
       "      <th>0</th>\n",
       "      <td>Kitchen Before and After</td>\n",
       "      <td>I've finally finished decluttering and cleanin...</td>\n",
       "      <td>declutter</td>\n",
       "      <td>1.609520e+09</td>\n",
       "      <td>finally finished decluttering cleaning kitchen...</td>\n",
       "    </tr>\n",
       "    <tr>\n",
       "      <th>1</th>\n",
       "      <td>How is there still so much stuff?!</td>\n",
       "      <td>I’ve been decluttering all of 2020, as well as...</td>\n",
       "      <td>declutter</td>\n",
       "      <td>1.609607e+09</td>\n",
       "      <td>decluttering 2020 well making small change 5 y...</td>\n",
       "    </tr>\n",
       "    <tr>\n",
       "      <th>2</th>\n",
       "      <td>I put \"due-dates\" on clothes that I haven't wo...</td>\n",
       "      <td>https://imgur.com/a/Y5BdBiT</td>\n",
       "      <td>declutter</td>\n",
       "      <td>1.609780e+09</td>\n",
       "      <td>http imgur com y5bdbit</td>\n",
       "    </tr>\n",
       "    <tr>\n",
       "      <th>3</th>\n",
       "      <td>Clothes that fit but are old/aren’t me anymore</td>\n",
       "      <td>Update: \\nSo I listed 4 dresses to the free si...</td>\n",
       "      <td>declutter</td>\n",
       "      <td>1.610106e+09</td>\n",
       "      <td>update listed 4 dress free site area found nic...</td>\n",
       "    </tr>\n",
       "    <tr>\n",
       "      <th>4</th>\n",
       "      <td>Decluttering the freezer. Cooked 5 chickens do...</td>\n",
       "      <td>Just as the title says, I’m trying to clear ou...</td>\n",
       "      <td>declutter</td>\n",
       "      <td>1.610158e+09</td>\n",
       "      <td>title say trying clear freezer holiday cook th...</td>\n",
       "    </tr>\n",
       "  </tbody>\n",
       "</table>\n",
       "</div>"
      ],
      "text/plain": [
       "                                               title  \\\n",
       "0                           Kitchen Before and After   \n",
       "1                 How is there still so much stuff?!   \n",
       "2  I put \"due-dates\" on clothes that I haven't wo...   \n",
       "3     Clothes that fit but are old/aren’t me anymore   \n",
       "4  Decluttering the freezer. Cooked 5 chickens do...   \n",
       "\n",
       "                                                text  subreddit   created_utc  \\\n",
       "0  I've finally finished decluttering and cleanin...  declutter  1.609520e+09   \n",
       "1  I’ve been decluttering all of 2020, as well as...  declutter  1.609607e+09   \n",
       "2                        https://imgur.com/a/Y5BdBiT  declutter  1.609780e+09   \n",
       "3  Update: \\nSo I listed 4 dresses to the free si...  declutter  1.610106e+09   \n",
       "4  Just as the title says, I’m trying to clear ou...  declutter  1.610158e+09   \n",
       "\n",
       "                                          clean_text  \n",
       "0  finally finished decluttering cleaning kitchen...  \n",
       "1  decluttering 2020 well making small change 5 y...  \n",
       "2                             http imgur com y5bdbit  \n",
       "3  update listed 4 dress free site area found nic...  \n",
       "4  title say trying clear freezer holiday cook th...  "
      ]
     },
     "execution_count": 27,
     "metadata": {},
     "output_type": "execute_result"
    }
   ],
   "source": [
    "final_df.head()"
   ]
  },
  {
   "cell_type": "markdown",
   "id": "13322b42-00d0-4aee-971d-dc28146342e7",
   "metadata": {},
   "source": [
    "Check top 20 words now!"
   ]
  },
  {
   "cell_type": "code",
   "execution_count": 28,
   "id": "28cc94fa-dcf7-4c13-a7e8-7f1e5e6a37cc",
   "metadata": {},
   "outputs": [],
   "source": [
    "minimalism_df = final_df[final_df['subreddit'] == 'minimalism']\n",
    "declutter_df = final_df[final_df['subreddit'] == 'declutter']\n",
    "\n",
    "def get_top_words(texts, top_n=20):\n",
    "    all_words = \" \".join(texts.dropna()).split()\n",
    "    \n",
    "    #convert to use value_counts\n",
    "    word_series = pd.Series(all_words)\n",
    "    top_words = word_series.value_counts().head(top_n)\n",
    "    \n",
    "    return top_words\n",
    "\n",
    "top_words_minimalism_text = get_top_words(minimalism_df['clean_text'], 20)\n",
    "top_words_declutter_text = get_top_words(declutter_df['clean_text'], 20)"
   ]
  },
  {
   "cell_type": "markdown",
   "id": "13fc35b9-8ee2-4e77-8854-95f735798b4e",
   "metadata": {},
   "source": [
    "Plotting to see the words visually"
   ]
  },
  {
   "cell_type": "code",
   "execution_count": 29,
   "id": "705ad199-61dc-4548-a028-33e3d43a26d6",
   "metadata": {},
   "outputs": [
    {
     "data": {
      "image/png": "[encoded data removed]",
      "text/plain": [
       "<Figure size 1800x600 with 2 Axes>"
      ]
     },
     "metadata": {},
     "output_type": "display_data"
    }
   ],
   "source": [
    "top_words_declutter_text = top_words_declutter_text.sort_values(ascending=True)\n",
    "top_words_minimalism_text = top_words_minimalism_text.sort_values(ascending=True)\n",
    "\n",
    "\n",
    "plt.figure(figsize=(18, 6))\n",
    "\n",
    "# Bar graph for Declutter (Text)\n",
    "plt.subplot(1, 2, 1) \n",
    "plt.barh(top_words_declutter_text.index, top_words_declutter_text.values, color='skyblue')\n",
    "plt.title('Top 20 Words in Declutter', fontsize=16)\n",
    "plt.xlabel('Frequency', fontsize=12)\n",
    "plt.ylabel('Words', fontsize=12)\n",
    "\n",
    "# Bar graph for Minimalism (Text)\n",
    "plt.subplot(1, 2, 2) \n",
    "plt.barh(top_words_minimalism_text.index, top_words_minimalism_text.values, color='lightgreen')\n",
    "plt.title('Top 20 Words in Minimalism')\n",
    "plt.xlabel('Frequency')\n",
    "plt.ylabel('Words')  \n",
    "plt.tight_layout()"
   ]
  },
  {
   "cell_type": "markdown",
   "id": "b91d07af-3889-4b0f-9b94-75b305ba8809",
   "metadata": {},
   "source": [
    "Among the top 20 words from each subreddits in text; total of 40, only 26 words are unique. This shows that the have related theme. To set this apart and differetiate the subreddit based on words appearing we will be using TF_IDF technique for Natural Language Processing(NLP)"
   ]
  },
  {
   "cell_type": "code",
   "execution_count": null,
   "id": "f962106e-d4a4-4117-b34a-b226443e30d5",
   "metadata": {},
   "outputs": [],
   "source": []
  }
 ],
 "metadata": {
  "kernelspec": {
   "display_name": "Python 3 (ipykernel)",
   "language": "python",
   "name": "python3"
  },
  "language_info": {
   "codemirror_mode": {
    "name": "ipython",
    "version": 3
   },
   "file_extension": ".py",
   "mimetype": "text/x-python",
   "name": "python",
   "nbconvert_exporter": "python",
   "pygments_lexer": "ipython3",
   "version": "3.12.7"
  }
 },
 "nbformat": 4,
 "nbformat_minor": 5
}
